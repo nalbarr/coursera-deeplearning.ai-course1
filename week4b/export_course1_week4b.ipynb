{
 "cells": [
  {
   "cell_type": "code",
   "execution_count": 1,
   "metadata": {
    "collapsed": false
   },
   "outputs": [
    {
     "name": "stdout",
     "output_type": "stream",
     "text": [
      "filepaths: ['./export_course1_week4b.ipynb', './Deep Neural Network - Application v3.ipynb', './dnn_app_utils_v2.py', './images/cat-test.jpg', './images/imvector.png', './images/imvectorkiank.png', './images/LlayerNN_kiank.png', './images/2layerNN_kiank.png', './images/my_image.jpg']\n",
      "f: ./export_course1_week4b.ipynb\n",
      "f: ./Deep Neural Network - Application v3.ipynb\n",
      "f: ./dnn_app_utils_v2.py\n",
      "f: ./images/cat-test.jpg\n",
      "f: ./images/imvector.png\n",
      "f: ./images/imvectorkiank.png\n",
      "f: ./images/LlayerNN_kiank.png\n",
      "f: ./images/2layerNN_kiank.png\n",
      "f: ./images/my_image.jpg\n",
      "Export successful.\n"
     ]
    }
   ],
   "source": [
    "# export_course1_week4b.py\n",
    "\n",
    "import glob, zipfile, os, os.path\n",
    "\n",
    "def get_filepaths():\n",
    "    notebooks_path = os.path.join('.', \"*.ipynb\")\n",
    "    notebooks = glob.glob(notebooks_path)\n",
    "    \n",
    "    sources_path = os.path.join('.', '*.py')\n",
    "    sources = glob.glob(sources_path)\n",
    "    \n",
    "    # NAA.  No datasets.\n",
    "    datasets_path = os.path.join('.', 'datasets', '*.h')\n",
    "    datasets = glob.glob(datasets_path)\n",
    "    \n",
    "    images_path = os.path.join('.', 'images', '*.*')\n",
    "    images = glob.glob(images_path)\n",
    "\n",
    "    #print (type(datasets))\n",
    "    #print(\"datasets: \" + str(datasets))\n",
    "    #print(\"images: \" + str(images))\n",
    "\n",
    "    filepaths = notebooks + sources + datasets + images\n",
    "    if (debug):\n",
    "        print(\"filepaths: \" + str(filepaths))\n",
    "    return filepaths\n",
    "    \n",
    "def export_files(zipfilename):\n",
    "    filepaths = get_filepaths()\n",
    "    \n",
    "    if (debug):\n",
    "        with zipfile.ZipFile(zipfilename, 'w') as myzip:\n",
    "            for f in filepaths:\n",
    "                print(\"f: \" + f)\n",
    "                myzip.write(f)\n",
    "\n",
    "def check_export_file(zipfilename):\n",
    "    if (os.path.isfile(zipfilename)):\n",
    "        print(\"Export successful.\")\n",
    "                \n",
    "# main\n",
    "zipfilename = os.path.join(\".\", \"deeplearning.ai-course1-week4b.zip\")\n",
    "debug=True\n",
    "export_files(zipfilename)\n",
    "check_export_file(zipfilename)"
   ]
  }
 ],
 "metadata": {
  "kernelspec": {
   "display_name": "Python 3",
   "language": "python",
   "name": "python3"
  },
  "language_info": {
   "codemirror_mode": {
    "name": "ipython",
    "version": 3
   },
   "file_extension": ".py",
   "mimetype": "text/x-python",
   "name": "python",
   "nbconvert_exporter": "python",
   "pygments_lexer": "ipython3",
   "version": "3.5.2"
  }
 },
 "nbformat": 4,
 "nbformat_minor": 1
}
